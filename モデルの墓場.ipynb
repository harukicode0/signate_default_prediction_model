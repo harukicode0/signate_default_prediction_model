{
 "cells": [
  {
   "cell_type": "markdown",
   "id": "5e2a3434-a248-4cae-b573-2536b8922e49",
   "metadata": {},
   "source": [
    "# 試したもの保存場所"
   ]
  },
  {
   "cell_type": "markdown",
   "id": "de1d1713-862f-418a-9eea-ad3b741075eb",
   "metadata": {},
   "source": [
    "### lightgbmでほぼ全ての変数(employment_length以外)投入"
   ]
  },
  {
   "cell_type": "code",
   "execution_count": null,
   "id": "81b0d00a-cbbd-43e6-90ae-80c2ef37bc57",
   "metadata": {},
   "outputs": [],
   "source": [
    "# 特徴量の選択\n",
    "col_x = ['loan_amnt', 'term','grade','credit_score', 'application_type','credit_card', \n",
    "         'debt_consolidation','home_improvement','house', \n",
    "         'major_purchase', 'medical','moving', 'other',\n",
    "         'renewable_energy', 'small_business', 'vacation', 'wedding']\n",
    "col_y = ['loan_status']\n",
    "sc_light = StandardScaler()\n",
    "sc_light_df = sc_light.fit_transform(df[col_x])\n",
    "y = df[col_y]\n",
    "# データの分割\n",
    "x_train, x_val, y_train, y_val = train_test_split(sc_light_df, y, random_state=0, test_size=0.2)\n",
    "# LightGBMを訓練\n",
    "model = lgb.LGBMClassifier(n_estimators=200, max_depth=3, random_state=0, learning_rate=0.005, verbosity=-1)\n",
    "# 後程グラフの縦軸に変数名を出させるために一旦データフレーム化\n",
    "lgbm = pd.DataFrame(x_train, columns=col_x)\n",
    "# 学習曲線を出すために、学習中の誤差を評価するための指標を決めておく\n",
    "model.fit(lgbm, y_train, eval_set=[(x_train,y_train),(x_val,y_val)], verbose=False)\n",
    "model.score(x_train,y_train),model.score(x_val,y_val)"
   ]
  },
  {
   "cell_type": "markdown",
   "id": "dffca256-d3e8-4052-b971-48df9a97c0b8",
   "metadata": {},
   "source": [
    "### class_weightを調整したlightgbmで再挑戦。混同行列も確認しているので、汎化性の高めでは？"
   ]
  },
  {
   "cell_type": "code",
   "execution_count": null,
   "id": "234023e6-5716-4055-8f35-e929b298b82a",
   "metadata": {},
   "outputs": [],
   "source": [
    "# 使用する特徴量の選択\n",
    "col_x = ['loan_amnt','grade','credit_score','debt_consolidation']\n",
    "col_y = ['loan_status']\n",
    "sc_light = StandardScaler()\n",
    "sc_light_df = sc_light.fit_transform(df[col_x])\n",
    "y = df[col_y]\n",
    "# データの分割\n",
    "x_train, x_val, y_train, y_val = train_test_split(sc_light_df, y, random_state=0, test_size=0.2)\n",
    "# LightGBMを訓練\n",
    "model = lgb.LGBMClassifier(n_estimators=500, max_depth=3, random_state=0, class_weight='balanced' ,learning_rate=0.005, verbosity=-1)\n",
    "# 後程グラフの縦軸に変数名を出させるために一旦データフレーム化\n",
    "lgbm = pd.DataFrame(x_train, columns=col_x)\n",
    "# 学習曲線を出すために、学習中の誤差を評価するための指標を決めておく\n",
    "model.fit(lgbm, y_train, eval_set=[(x_train,y_train),(x_val,y_val)], verbose=False)"
   ]
  },
  {
   "cell_type": "markdown",
   "id": "fbcdd236-af11-42de-bb8a-c6408a6e3419",
   "metadata": {
    "jp-MarkdownHeadingCollapsed": true,
    "tags": []
   },
   "source": [
    "### optunaを利用してハイパラ最適化"
   ]
  },
  {
   "cell_type": "code",
   "execution_count": null,
   "id": "5296cbb0-c855-488d-8fee-00c59a568cae",
   "metadata": {},
   "outputs": [],
   "source": [
    "# optuna実装\n",
    "class Objective:\n",
    "    def __init__(self, X, y):\n",
    "        # 変数X,yの初期化\n",
    "        self.X = X\n",
    "        self.y = y\n",
    "\n",
    "    def __call__(self, trial):\n",
    "        # ハイパーパラメータの設定\n",
    "        params = {\n",
    "            #ブースティング実行の回数\n",
    "            \"n_estimators\": trial.suggest_int(\"n_estimators\", 100, 800),\n",
    "            # 決定木の最大の深さ\n",
    "            \"max_depth\": trial.suggest_int(\"max_depth\", 1, 15),\n",
    "            # 学習率、購買の修正具合\n",
    "            \"learning_rate\": trial.suggest_float(\"learning_rate\", 1e-4, 1e-1),\n",
    "            #　ノードの最小データ数\n",
    "            \"min_child_samples\": trial.suggest_int(\"min_child_samples\", 5, 200),\n",
    "            # 学習結果を非表示\n",
    "            'verbosity': -1,\n",
    "            'random_state':0,\n",
    "            # データの偏りに対して強くする\n",
    "            \"class_weight\":'balanced',\n",
    "            # L2正則化を入れる\n",
    "            \"reg_lambda\":trial.suggest_float(\"reg_lambda\",0, 100),\n",
    "            }\n",
    "\n",
    "        model = lgb.LGBMClassifier(**params)\n",
    "\n",
    "        # 評価指標として正解率の最大化を目指す\n",
    "        scores = cross_validate(model,\n",
    "                                X=self.X, \n",
    "                                y=self.y,\n",
    "                                scoring='accuracy', # 正解率を指定（https://scikit-learn.org/stable/modules/model_evaluation.html#scoring-parameter）\n",
    "                                n_jobs=-1) # 並行して実行するジョブの数（-1は全てのプロセッサを使用）\n",
    "        return scores['test_score'].mean()\n",
    "\n",
    "# ハイパーパラメータの探索\n",
    "objective = Objective(x_train, y_train)\n",
    "optuna.logging.set_verbosity(optuna.logging.WARNING)\n",
    "study = optuna.create_study(direction='maximize') # 最大化\n",
    "study.optimize(objective, timeout=180) #探索時間の最大化\n",
    "\n",
    "# optunaの値で再度訓練\n",
    "# LightGBMを訓練\n",
    "op_model = lgb.LGBMClassifier(n_estimators=study.best_params['n_estimators'],\n",
    "                              max_depth=study.best_params['max_depth'],\n",
    "                              random_state=0,\n",
    "                              class_weight='balanced',\n",
    "                              learning_rate=study.best_params['learning_rate'],\n",
    "                              min_child_samples=study.best_params['min_child_samples'],\n",
    "                              reg_lambda = study.best_params['reg_lambda'],\n",
    "                              verbosity=-1)\n",
    "# 後程グラフの縦軸に変数名を出させるために一旦データフレーム化\n",
    "op_lgbm = pd.DataFrame(x_train, columns=col_x)\n",
    "# 学習曲線を出すために、学習中の誤差を評価するための指標を決めておく\n",
    "op_model.fit(op_lgbm, y_train, eval_set=[(x_train,y_train),(x_val,y_val)],\n",
    "             verbose=False, early_stopping_rounds=50)\n",
    "print(op_model.score(x_train,y_train),op_model.score(x_val,y_val))\n",
    "lgb.plot_metric(op_model)\n",
    "plt.show()\n",
    "lgb.plot_importance(op_model)\n",
    "plt.show()\n",
    "y_pred = op_model.predict(x_val)\n",
    "print(classification_report(y_val, y_pred))"
   ]
  },
  {
   "cell_type": "markdown",
   "id": "a8cfa507-e625-42c0-acdc-8e65650cc79e",
   "metadata": {},
   "source": [
    "### ロジスティック回帰\n",
    "正解率：0.64"
   ]
  },
  {
   "cell_type": "code",
   "execution_count": 1,
   "id": "5fb42285-d1d2-45b8-9308-dd4419dfbe5d",
   "metadata": {
    "collapsed": true,
    "jupyter": {
     "outputs_hidden": true
    },
    "tags": []
   },
   "outputs": [
    {
     "ename": "NameError",
     "evalue": "name 'LogisticRegression' is not defined",
     "output_type": "error",
     "traceback": [
      "\u001b[0;31m---------------------------------------------------------------------------\u001b[0m",
      "\u001b[0;31mNameError\u001b[0m                                 Traceback (most recent call last)",
      "\u001b[0;32m/var/folders/j0/dprt9y4n7hjcjnr0fw0wxf300000gn/T/ipykernel_48253/421305555.py\u001b[0m in \u001b[0;36m<module>\u001b[0;34m\u001b[0m\n\u001b[1;32m      4\u001b[0m \u001b[0;34m\u001b[0m\u001b[0m\n\u001b[1;32m      5\u001b[0m \u001b[0;31m# model\u001b[0m\u001b[0;34m\u001b[0m\u001b[0;34m\u001b[0m\u001b[0m\n\u001b[0;32m----> 6\u001b[0;31m \u001b[0mmodel\u001b[0m \u001b[0;34m=\u001b[0m \u001b[0mLogisticRegression\u001b[0m\u001b[0;34m(\u001b[0m\u001b[0mC\u001b[0m\u001b[0;34m=\u001b[0m\u001b[0;36m0.1\u001b[0m\u001b[0;34m,\u001b[0m\u001b[0mclass_weight\u001b[0m\u001b[0;34m=\u001b[0m\u001b[0;34m'balanced'\u001b[0m\u001b[0;34m)\u001b[0m\u001b[0;34m\u001b[0m\u001b[0;34m\u001b[0m\u001b[0m\n\u001b[0m\u001b[1;32m      7\u001b[0m \u001b[0mmodel\u001b[0m\u001b[0;34m.\u001b[0m\u001b[0mfit\u001b[0m\u001b[0;34m(\u001b[0m\u001b[0msc_x_df\u001b[0m\u001b[0;34m,\u001b[0m\u001b[0my\u001b[0m\u001b[0;34m)\u001b[0m\u001b[0;34m\u001b[0m\u001b[0;34m\u001b[0m\u001b[0m\n\u001b[1;32m      8\u001b[0m \u001b[0my_pred\u001b[0m \u001b[0;34m=\u001b[0m \u001b[0mlgr\u001b[0m\u001b[0;34m.\u001b[0m\u001b[0mpredict\u001b[0m\u001b[0;34m(\u001b[0m\u001b[0mx_val\u001b[0m\u001b[0;34m)\u001b[0m\u001b[0;34m\u001b[0m\u001b[0;34m\u001b[0m\u001b[0m\n",
      "\u001b[0;31mNameError\u001b[0m: name 'LogisticRegression' is not defined"
     ]
    }
   ],
   "source": [
    "# 使用した特徴量\n",
    "col_x = ['loan_amnt', 'term','grade','credit_score', 'debt_consolidation']\n",
    "col_y = ['loan_status']\n",
    "\n",
    "# model\n",
    "model = LogisticRegression(C=0.1,class_weight='balanced')\n",
    "model.fit(sc_x_df,y)\n",
    "y_pred = lgr.predict(x_val)\n",
    "print(lgr.score(x_train,y_train))\n",
    "print(classification_report(y_val, y_pred))"
   ]
  },
  {
   "cell_type": "markdown",
   "id": "3d54e914-e7b6-4b8c-94e7-3378095f67d1",
   "metadata": {},
   "source": [
    "### 特徴量エンジニアリング"
   ]
  },
  {
   "cell_type": "code",
   "execution_count": null,
   "id": "be1776fe-20fe-46c2-b53d-46176857f721",
   "metadata": {},
   "outputs": [],
   "source": [
    "# 特徴量エンジニアリング\n",
    "pf = PolynomialFeatures(degree=2, include_bias=False)\n",
    "pf_col = ['loan_amnt', 'term', 'interest_rate', 'grade','credit_score',\n",
    "          'application_type','debt_consolidation', 'home_improvement', 'house',\n",
    "          'major_purchase','medical', 'moving', 'other', 'renewable_energy',\n",
    "          'small_business','vacation', 'wedding']\n",
    "pf_x = pf.fit_transform(df[pf_col])\n",
    "pf_df = pd.DataFrame(pf_x ,columns=pf.get_feature_names())\n",
    "df = pd.concat([df,pf_df], axis=1)\n",
    "\n",
    "# 使用した特徴量\n",
    "col_x = ['x3^2', 'x2^2', 'interest_rate', 'x2 x4', 'x3 x4', 'credit_score*grade',\n",
    "       'grade', 'x4 x5', 'x2 x3', 'application_type', 'x5^2', 'term', 'x3 x12',\n",
    "       'x2 x12', 'x1 x3', 'x4 x9', 'loan_amnt', 'x2 x10', 'x2 x16', 'x4 x13',\n",
    "       'credit_score', 'x3 x10', 'x0 x2', 'x2 x8', 'x3 x8',\n",
    "       'employment_length_bool', 'major_purchase', 'x9^2', 'x1 x14', 'x0 x3']\n",
    "\n",
    "# model\n",
    "model = lgb.LGBMClassifier(n_estimators=study.best_params['n_estimators'],\n",
    "                              max_depth=study.best_params['max_depth'],\n",
    "                              random_state=0,\n",
    "                              class_weight='balanced',\n",
    "                              learning_rate=study.best_params['learning_rate'],\n",
    "                              min_child_samples=study.best_params['min_child_samples'],\n",
    "                              reg_lambda = study.best_params['reg_lambda'],\n",
    "                              verbosity=-1)\n",
    "\n",
    "# パラメーター\n",
    "params: {'n_estimators': 1244, 'max_depth': 9, 'learning_rate': 0.07870987685379975, \n",
    "         'min_child_samples': 109, 'reg_lambda': 84.39310868452604, \n",
    "         'reg_alpha': 5.315213290722924}\n"
   ]
  }
 ],
 "metadata": {
  "kernelspec": {
   "display_name": "Python 3 (ipykernel)",
   "language": "python",
   "name": "python3"
  },
  "language_info": {
   "codemirror_mode": {
    "name": "ipython",
    "version": 3
   },
   "file_extension": ".py",
   "mimetype": "text/x-python",
   "name": "python",
   "nbconvert_exporter": "python",
   "pygments_lexer": "ipython3",
   "version": "3.9.12"
  }
 },
 "nbformat": 4,
 "nbformat_minor": 5
}
